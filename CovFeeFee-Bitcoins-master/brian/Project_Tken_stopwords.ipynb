{
 "cells": [
  {
   "cell_type": "code",
   "execution_count": 1,
   "metadata": {},
   "outputs": [],
   "source": [
    "import pandas as pd\n",
    "from pyspark.sql import SparkSession\n",
    "from pyspark.sql.types import *\n",
    "from pyspark.ml.feature import Tokenizer, StopWordsRemover"
   ]
  },
  {
   "cell_type": "code",
   "execution_count": 2,
   "metadata": {},
   "outputs": [],
   "source": [
    "# create your spark app and session\n",
    "from pyspark import SparkFiles\n",
    "\n",
    "spark = SparkSession.builder.appName('pandasToSparkDF').getOrCreate()"
   ]
  },
  {
   "cell_type": "code",
   "execution_count": 3,
   "metadata": {},
   "outputs": [],
   "source": [
    "# Load in data\n",
    "df = pd.read_csv(\"Output/live_output.csv\")"
   ]
  },
  {
   "cell_type": "code",
   "execution_count": 4,
   "metadata": {},
   "outputs": [
    {
     "data": {
      "text/html": [
       "<div>\n",
       "<style scoped>\n",
       "    .dataframe tbody tr th:only-of-type {\n",
       "        vertical-align: middle;\n",
       "    }\n",
       "\n",
       "    .dataframe tbody tr th {\n",
       "        vertical-align: top;\n",
       "    }\n",
       "\n",
       "    .dataframe thead th {\n",
       "        text-align: right;\n",
       "    }\n",
       "</style>\n",
       "<table border=\"1\" class=\"dataframe\">\n",
       "  <thead>\n",
       "    <tr style=\"text-align: right;\">\n",
       "      <th></th>\n",
       "      <th>DateTime</th>\n",
       "      <th>Tweet</th>\n",
       "      <th>Handle</th>\n",
       "      <th>Followers</th>\n",
       "      <th>Location</th>\n",
       "      <th>Retweet Count</th>\n",
       "      <th>Sentiment</th>\n",
       "      <th>Clean Tweets</th>\n",
       "    </tr>\n",
       "  </thead>\n",
       "  <tbody>\n",
       "    <tr>\n",
       "      <th>0</th>\n",
       "      <td>2019-07-06 17:23:51</td>\n",
       "      <td>$BCH and $BSV #hodler... smh \\n🤣🤣🤣🤣\\n\\n#crypto...</td>\n",
       "      <td>KoalaCryptos</td>\n",
       "      <td>564</td>\n",
       "      <td>The Moon</td>\n",
       "      <td>0</td>\n",
       "      <td>1</td>\n",
       "      <td>$BCH and $BSV hodler... smh \\n🤣🤣🤣🤣\\n\\ncrypto b...</td>\n",
       "    </tr>\n",
       "    <tr>\n",
       "      <th>1</th>\n",
       "      <td>2019-07-06 17:23:43</td>\n",
       "      <td>LAST TRADE: SELL 0.03562599BTC@10287.1EUR\\nSEL...</td>\n",
       "      <td>digital_mine_</td>\n",
       "      <td>5750</td>\n",
       "      <td>STEEM BLOCKCHAIN</td>\n",
       "      <td>0</td>\n",
       "      <td>1</td>\n",
       "      <td>LAST TRADE: SELL 0.03562599BTC@10287.1EUR\\nSEL...</td>\n",
       "    </tr>\n",
       "    <tr>\n",
       "      <th>2</th>\n",
       "      <td>2019-07-06 17:23:05</td>\n",
       "      <td>With this project that consists of a good team...</td>\n",
       "      <td>maruf07388605</td>\n",
       "      <td>734</td>\n",
       "      <td>Bangladesh</td>\n",
       "      <td>0</td>\n",
       "      <td>2</td>\n",
       "      <td>With this project that consists of a good team...</td>\n",
       "    </tr>\n",
       "    <tr>\n",
       "      <th>3</th>\n",
       "      <td>2019-07-06 17:23:02</td>\n",
       "      <td>Join the faucet hub for free #bitcoin #cryptoc...</td>\n",
       "      <td>BitcoinTap</td>\n",
       "      <td>270</td>\n",
       "      <td>Tokyo</td>\n",
       "      <td>0</td>\n",
       "      <td>2</td>\n",
       "      <td>Join the faucet hub for free bitcoin cryptocur...</td>\n",
       "    </tr>\n",
       "    <tr>\n",
       "      <th>4</th>\n",
       "      <td>2019-07-06 17:22:55</td>\n",
       "      <td>Roses are red,\\nViolets are blue,\\nAnd Craig W...</td>\n",
       "      <td>Coin_Brawl</td>\n",
       "      <td>148</td>\n",
       "      <td>NaN</td>\n",
       "      <td>0</td>\n",
       "      <td>1</td>\n",
       "      <td>Roses are red,\\nViolets are blue,\\nAnd Craig W...</td>\n",
       "    </tr>\n",
       "  </tbody>\n",
       "</table>\n",
       "</div>"
      ],
      "text/plain": [
       "              DateTime                                              Tweet  \\\n",
       "0  2019-07-06 17:23:51  $BCH and $BSV #hodler... smh \\n🤣🤣🤣🤣\\n\\n#crypto...   \n",
       "1  2019-07-06 17:23:43  LAST TRADE: SELL 0.03562599BTC@10287.1EUR\\nSEL...   \n",
       "2  2019-07-06 17:23:05  With this project that consists of a good team...   \n",
       "3  2019-07-06 17:23:02  Join the faucet hub for free #bitcoin #cryptoc...   \n",
       "4  2019-07-06 17:22:55  Roses are red,\\nViolets are blue,\\nAnd Craig W...   \n",
       "\n",
       "          Handle  Followers          Location  Retweet Count  Sentiment  \\\n",
       "0   KoalaCryptos        564          The Moon              0          1   \n",
       "1  digital_mine_       5750  STEEM BLOCKCHAIN              0          1   \n",
       "2  maruf07388605        734        Bangladesh              0          2   \n",
       "3     BitcoinTap        270             Tokyo              0          2   \n",
       "4     Coin_Brawl        148               NaN              0          1   \n",
       "\n",
       "                                        Clean Tweets  \n",
       "0  $BCH and $BSV hodler... smh \\n🤣🤣🤣🤣\\n\\ncrypto b...  \n",
       "1  LAST TRADE: SELL 0.03562599BTC@10287.1EUR\\nSEL...  \n",
       "2  With this project that consists of a good team...  \n",
       "3  Join the faucet hub for free bitcoin cryptocur...  \n",
       "4  Roses are red,\\nViolets are blue,\\nAnd Craig W...  "
      ]
     },
     "execution_count": 4,
     "metadata": {},
     "output_type": "execute_result"
    }
   ],
   "source": [
    "df['Clean Tweets'] = df['Tweet'].map(lambda row: row.replace('#', ''))\n",
    "df.head()"
   ]
  },
  {
   "cell_type": "code",
   "execution_count": 5,
   "metadata": {},
   "outputs": [
    {
     "data": {
      "text/plain": [
       "0       $BCH and $BSV hodler... smh \\n🤣🤣🤣🤣\\n\\ncrypto b...\n",
       "1       LAST TRADE: SELL 0.03562599BTC@10287.1EUR\\nSEL...\n",
       "2       With this project that consists of a good team...\n",
       "3       Join the faucet hub for free bitcoin cryptocur...\n",
       "4       Roses are red,\\nViolets are blue,\\nAnd Craig W...\n",
       "5       @Citi This comes up in Crypto twitter. Keep tr...\n",
       "6       Looks like an inverted head &amp; shoulders pa...\n",
       "7       Bitcoin Price Prediction And Analysis For June...\n",
       "8       The irony of Bitcoin: a decentralized currency...\n",
       "9       Update: I've invested all of the savings in bi...\n",
       "10      Take the Love Compatibility Test! https://t.co...\n",
       "11      Bitmain moves ahead with employee-options plan...\n",
       "12      XRPL Labs’ Wietse Wind hints at ‘XRPL-bridged ...\n",
       "13      My BitcoinCard story! \\n@CoinbaseCard @tenxwal...\n",
       "14      Order your secure and smart BTC/ETH/Altcoin ha...\n",
       "15      Bitcoin market grew ‘independently’ in q2 2019...\n",
       "16      crypto cryptocurrency bitcoin Loon's balloon b...\n",
       "17      Bitcoin Exchange Binance Aims to Disrupt Femal...\n",
       "18      Invest in yourself and Cash out weekly Bitcoin...\n",
       "19      3 VARIANTS  of BTC future movements\\nThey all ...\n",
       "20      “Genius is 1% inspiration, 99% perspiration.”\\...\n",
       "21      Down with the establishment 🤘\\n\\nFound the Bit...\n",
       "22      The world's leading and most trusted hashpower...\n",
       "23      Here is my Bitcoin prediction of tomorrow, Pre...\n",
       "24      bitcoin is on sale.  1 USD can purchase 8600 S...\n",
       "25      Im a huge fan of VergeCurrency and its blockch...\n",
       "26      Im a huge fan of VergeCurrency and its blockch...\n",
       "27      Im a huge fan of VergeCurrency and its blockch...\n",
       "28      Support me with Brave Bitcoin brave  https://t...\n",
       "29      Rolling with my GHOST 👻 rollsroyce wealthy ric...\n",
       "                              ...                        \n",
       "2970    We can do better than the lifestyle music we h...\n",
       "2971    Tron Calls Police to Protect Beijing Office Ag...\n",
       "2972    Protect yourself from Whale's \"Rinse and Repea...\n",
       "2973    We are delighted and honored to be able to spe...\n",
       "2974    $NEXCF Signs AR eCommerce Deal with Luxe Canna...\n",
       "2975    Updated bitcoin chart.. Broke over trendline r...\n",
       "2976    $RMSL 053 UNKNOWN BATTERED BIOTECH 52WKH $1.20...\n",
       "2977    @Xentagz Lagarde will not be sending the stop ...\n",
       "2978    Mastering Bitcoin: Programming the Open Blockc...\n",
       "2979    On the below 60minute chart of $BTC we can see...\n",
       "2980    Bitcoin Price Analysis: BTC Price Recovers 10%...\n",
       "2981    Binance gives free money through airdrops and ...\n",
       "2982    Buy our shit. TBPN adoptionmatters bitcoin pod...\n",
       "2983    realestate blockchain property bitcoin\\nI'm su...\n",
       "2984    10 Bitmain Antminer S9 **13.5 TH/s** with APW3...\n",
       "2985    Best Privacy Coins In 2019?\\n\\nBitcoin Crypto ...\n",
       "2986    you think that Bitcoiners are toxic? \\n\\nYou h...\n",
       "2987    Happy to be included in These 6 Podcasts Will ...\n",
       "2988    Binance Report: Bitcoin Decorrelated with Othe...\n",
       "2989    Deutsche Bank staff sent home as 18,000 job jo...\n",
       "2990    crypto twitter embaressing as always...\\n\\ntro...\n",
       "2991    eterbase bitcoin exchange\\nAnother huge opport...\n",
       "2992    LAtoken opens DROID Token sale (https://t.co/s...\n",
       "2993    KuCoin Launches Bitcoin Derivatives Trading Wi...\n",
       "2994    @AndrewYang bitcoin to Fed Reserve, let's get ...\n",
       "2995    please give me\\n32yyeXCAqrxbKMvSDP9ymib64wJfB8...\n",
       "2996    If there was a way to take your forever TAX mo...\n",
       "2997    Get decked out for the Bitcoin bull market wit...\n",
       "2998    Banks Consume 133% More Power than Bitcoin: Cl...\n",
       "2999    Daily analyze of cryptocurrency 20190708 VidyC...\n",
       "Name: Clean Tweets, Length: 3000, dtype: object"
      ]
     },
     "execution_count": 5,
     "metadata": {},
     "output_type": "execute_result"
    }
   ],
   "source": [
    "df['Clean Tweets']"
   ]
  },
  {
   "cell_type": "code",
   "execution_count": 6,
   "metadata": {},
   "outputs": [],
   "source": [
    "#Convert a Pandas Dataframe into a Pyspark Dataframe\n",
    "\n",
    "mySchema = StructType([ StructField(\"DateTime\", StringType(), True)\\\n",
    "                       ,StructField(\"Tweet\", StringType(), True)\\\n",
    "                       ,StructField(\"Handle\", StringType(), True)\\\n",
    "                       ,StructField(\"Followers\", IntegerType(), True)\\\n",
    "                       ,StructField(\"Location\", StringType(), True)\\\n",
    "                       ,StructField(\"Retweet Count\", IntegerType(), True)\\\n",
    "                       ,StructField(\"Sentiment\", IntegerType(), True)\\\n",
    "                       ,StructField(\"Clean Tweets\", StringType(), True)])\n",
    "\n",
    "df = spark.createDataFrame(df,schema=mySchema)"
   ]
  },
  {
   "cell_type": "code",
   "execution_count": 7,
   "metadata": {},
   "outputs": [],
   "source": [
    "# Tokenize dataframe\n",
    "review_data = Tokenizer(inputCol=\"Clean Tweets\", outputCol=\"Words\")"
   ]
  },
  {
   "cell_type": "code",
   "execution_count": 8,
   "metadata": {},
   "outputs": [
    {
     "name": "stdout",
     "output_type": "stream",
     "text": [
      "+-------------------+--------------------+---------------+---------+--------------------+-------------+---------+--------------------+--------------------+\n",
      "|           DateTime|               Tweet|         Handle|Followers|            Location|Retweet Count|Sentiment|        Clean Tweets|               Words|\n",
      "+-------------------+--------------------+---------------+---------+--------------------+-------------+---------+--------------------+--------------------+\n",
      "|2019-07-06 17:23:51|$BCH and $BSV #ho...|   KoalaCryptos|      564|            The Moon|            0|        1|$BCH and $BSV hod...|[$bch, and, $bsv,...|\n",
      "|2019-07-06 17:23:43|LAST TRADE: SELL ...|  digital_mine_|     5750|    STEEM BLOCKCHAIN|            0|        1|LAST TRADE: SELL ...|[last, trade:, se...|\n",
      "|2019-07-06 17:23:05|With this project...|  maruf07388605|      734|          Bangladesh|            0|        2|With this project...|[with, this, proj...|\n",
      "|2019-07-06 17:23:02|Join the faucet h...|     BitcoinTap|      270|               Tokyo|            0|        2|Join the faucet h...|[join, the, fauce...|\n",
      "|2019-07-06 17:22:55|Roses are red,\n",
      "Vi...|     Coin_Brawl|      148|                 NaN|            0|        1|Roses are red,\n",
      "Vi...|[roses, are, red,...|\n",
      "|2019-07-06 17:22:40|@Citi This comes ...|BrianSchweitz11|       12|                 NaN|            0|        2|@Citi This comes ...|[@citi, this, com...|\n",
      "|2019-07-06 17:22:04|Looks like an inv...|   KevinZimmer8|       16|       West Bend, WI|            0|        2|Looks like an inv...|[looks, like, an,...|\n",
      "|2019-07-06 17:21:47|Bitcoin Price Pre...|Remi_Vladuceanu|   161179|          Blockchain|            0|        1|Bitcoin Price Pre...|[bitcoin, price, ...|\n",
      "|2019-07-06 17:21:25|The irony of #Bit...|    NeeshaRemak|        4|        Brooklyn, NY|            0|        1|The irony of Bitc...|[the, irony, of, ...|\n",
      "|2019-07-06 17:21:12|Update: I've inve...|      thedridge|     1792|         Santa Clara|            0|        1|Update: I've inve...|[update:, i've, i...|\n",
      "|2019-07-06 17:21:09|Take the Love Com...|        jexpotz|      284|                 NaN|            0|        2|Take the Love Com...|[take, the, love,...|\n",
      "|2019-07-06 17:20:59|Bitmain moves ahe...| StartBitcoinOK|      548|                 NaN|            0|        2|Bitmain moves ahe...|[bitmain, moves, ...|\n",
      "|2019-07-06 17:20:59|XRPL Labs’ Wietse...| StartBitcoinOK|      548|                 NaN|            0|        1|XRPL Labs’ Wietse...|[xrpl, labs’, wie...|\n",
      "|2019-07-06 17:20:49|My #BitcoinCard s...|    LUKASLUETKE|       22|Grassau, Deutschland|            1|        1|My BitcoinCard st...|[my, bitcoincard,...|\n",
      "|2019-07-06 17:20:31|Order your secure...|         coinok|     8771|                 NaN|            0|        2|Order your secure...|[order, your, sec...|\n",
      "|2019-07-06 17:20:25|#Bitcoin market g...|        Xentagz|    22179|Bengaluru South, ...|            0|        1|Bitcoin market gr...|[bitcoin, market,...|\n",
      "|2019-07-06 17:20:24|#crypto #cryptocu...|  SamsungCrypto|       54|                 NaN|            0|        1|crypto cryptocurr...|[crypto, cryptocu...|\n",
      "|2019-07-06 17:20:17|Bitcoin Exchange ...|       xbtmoney|    10891|XBT (BTC) News Ag...|            0|        1|Bitcoin Exchange ...|[bitcoin, exchang...|\n",
      "|2019-07-06 17:20:14|Invest in yoursel...|OfficialMiche19|        0|       New York, USA|            0|        1|Invest in yoursel...|[invest, in, your...|\n",
      "|2019-07-06 17:20:08|3 VARIANTS  of #B...|  Irina41384302|       12|                 NaN|            1|        2|3 VARIANTS  of BT...|[3, variants, , o...|\n",
      "+-------------------+--------------------+---------------+---------+--------------------+-------------+---------+--------------------+--------------------+\n",
      "only showing top 20 rows\n",
      "\n"
     ]
    }
   ],
   "source": [
    "# Transform dataframe\n",
    "reviewed = review_data.transform(df)\n",
    "reviewed.show()"
   ]
  },
  {
   "cell_type": "code",
   "execution_count": 9,
   "metadata": {},
   "outputs": [],
   "source": [
    "# Remove stop words\n",
    "remover = StopWordsRemover(inputCol=\"Words\", outputCol=\"Filtered\")"
   ]
  },
  {
   "cell_type": "code",
   "execution_count": 10,
   "metadata": {},
   "outputs": [
    {
     "name": "stdout",
     "output_type": "stream",
     "text": [
      "+-------------------+--------------------+---------------+---------+--------------------+-------------+---------+--------------------+--------------------+--------------------+\n",
      "|           DateTime|               Tweet|         Handle|Followers|            Location|Retweet Count|Sentiment|        Clean Tweets|               Words|            Filtered|\n",
      "+-------------------+--------------------+---------------+---------+--------------------+-------------+---------+--------------------+--------------------+--------------------+\n",
      "|2019-07-06 17:23:51|$BCH and $BSV #ho...|   KoalaCryptos|      564|            The Moon|            0|        1|$BCH and $BSV hod...|[$bch, and, $bsv,...|[$bch, $bsv, hodl...|\n",
      "|2019-07-06 17:23:43|LAST TRADE: SELL ...|  digital_mine_|     5750|    STEEM BLOCKCHAIN|            0|        1|LAST TRADE: SELL ...|[last, trade:, se...|[last, trade:, se...|\n",
      "|2019-07-06 17:23:05|With this project...|  maruf07388605|      734|          Bangladesh|            0|        2|With this project...|[with, this, proj...|[project, consist...|\n",
      "|2019-07-06 17:23:02|Join the faucet h...|     BitcoinTap|      270|               Tokyo|            0|        2|Join the faucet h...|[join, the, fauce...|[join, faucet, hu...|\n",
      "|2019-07-06 17:22:55|Roses are red,\n",
      "Vi...|     Coin_Brawl|      148|                 NaN|            0|        1|Roses are red,\n",
      "Vi...|[roses, are, red,...|[roses, red,, vio...|\n",
      "|2019-07-06 17:22:40|@Citi This comes ...|BrianSchweitz11|       12|                 NaN|            0|        2|@Citi This comes ...|[@citi, this, com...|[@citi, comes, cr...|\n",
      "|2019-07-06 17:22:04|Looks like an inv...|   KevinZimmer8|       16|       West Bend, WI|            0|        2|Looks like an inv...|[looks, like, an,...|[looks, like, inv...|\n",
      "|2019-07-06 17:21:47|Bitcoin Price Pre...|Remi_Vladuceanu|   161179|          Blockchain|            0|        1|Bitcoin Price Pre...|[bitcoin, price, ...|[bitcoin, price, ...|\n",
      "|2019-07-06 17:21:25|The irony of #Bit...|    NeeshaRemak|        4|        Brooklyn, NY|            0|        1|The irony of Bitc...|[the, irony, of, ...|[irony, bitcoin:,...|\n",
      "|2019-07-06 17:21:12|Update: I've inve...|      thedridge|     1792|         Santa Clara|            0|        1|Update: I've inve...|[update:, i've, i...|[update:, investe...|\n",
      "|2019-07-06 17:21:09|Take the Love Com...|        jexpotz|      284|                 NaN|            0|        2|Take the Love Com...|[take, the, love,...|[take, love, comp...|\n",
      "|2019-07-06 17:20:59|Bitmain moves ahe...| StartBitcoinOK|      548|                 NaN|            0|        2|Bitmain moves ahe...|[bitmain, moves, ...|[bitmain, moves, ...|\n",
      "|2019-07-06 17:20:59|XRPL Labs’ Wietse...| StartBitcoinOK|      548|                 NaN|            0|        1|XRPL Labs’ Wietse...|[xrpl, labs’, wie...|[xrpl, labs’, wie...|\n",
      "|2019-07-06 17:20:49|My #BitcoinCard s...|    LUKASLUETKE|       22|Grassau, Deutschland|            1|        1|My BitcoinCard st...|[my, bitcoincard,...|[bitcoincard, sto...|\n",
      "|2019-07-06 17:20:31|Order your secure...|         coinok|     8771|                 NaN|            0|        2|Order your secure...|[order, your, sec...|[order, secure, s...|\n",
      "|2019-07-06 17:20:25|#Bitcoin market g...|        Xentagz|    22179|Bengaluru South, ...|            0|        1|Bitcoin market gr...|[bitcoin, market,...|[bitcoin, market,...|\n",
      "|2019-07-06 17:20:24|#crypto #cryptocu...|  SamsungCrypto|       54|                 NaN|            0|        1|crypto cryptocurr...|[crypto, cryptocu...|[crypto, cryptocu...|\n",
      "|2019-07-06 17:20:17|Bitcoin Exchange ...|       xbtmoney|    10891|XBT (BTC) News Ag...|            0|        1|Bitcoin Exchange ...|[bitcoin, exchang...|[bitcoin, exchang...|\n",
      "|2019-07-06 17:20:14|Invest in yoursel...|OfficialMiche19|        0|       New York, USA|            0|        1|Invest in yoursel...|[invest, in, your...|[invest, cash, we...|\n",
      "|2019-07-06 17:20:08|3 VARIANTS  of #B...|  Irina41384302|       12|                 NaN|            1|        2|3 VARIANTS  of BT...|[3, variants, , o...|[3, variants, , b...|\n",
      "+-------------------+--------------------+---------------+---------+--------------------+-------------+---------+--------------------+--------------------+--------------------+\n",
      "only showing top 20 rows\n",
      "\n"
     ]
    }
   ],
   "source": [
    "# Transform new dataframe\n",
    "newFrame = remover.transform(reviewed)\n",
    "newFrame.show()"
   ]
  },
  {
   "cell_type": "code",
   "execution_count": 11,
   "metadata": {},
   "outputs": [
    {
     "name": "stdout",
     "output_type": "stream",
     "text": [
      "+----------------------------------------------------------------------------------------------------------------------------------------------------------+\n",
      "|Filtered                                                                                                                                                  |\n",
      "+----------------------------------------------------------------------------------------------------------------------------------------------------------+\n",
      "|[$bch, $bsv, hodler..., smh, , 🤣🤣🤣🤣, , crypto, bitcoin, cash, fakesatoshi, https://t.co/dzjdqx0yka]                                                   |\n",
      "|[last, trade:, sell, 0.03562599btc@10287.1eur, sell, wall:, 37.004btc@10850.0eur, buy, wall:, 71.238btc@9600.0eur, sum, shorts:…, https://t.co/efcy1zr0vy]|\n",
      "|[project, consists, good, team, able, give, lot, money, protect, crypto, safe, worl…, https://t.co/b3e6pwh23l]                                            |\n",
      "|[join, faucet, hub, free, bitcoin, cryptocurrency, sites!, https://t.co/nmufobwwgn, https://t.co/aobswfckvv]                                              |\n",
      "|[roses, red,, violets, blue,, craig, wright, satoshi, nakamoto., , craigissatoshi, bsv, bitcoinsv, bitcoin]                                               |\n",
      "|[@citi, comes, crypto, twitter., keep, trying, banks, thieves, liars, bitcoin]                                                                            |\n",
      "|[looks, like, inverted, head, &amp;, shoulders, pattern, me..., bitcoin, , cryptocurrencies, , tothemoon, https://t.co/apnmomni6i]                        |\n",
      "|[bitcoin, price, prediction, analysis, june, 6th, –, correction, btc, almost, ➡️https://t.co/mugqh2kade…, https://t.co/8qscob2bou]                        |\n",
      "|[irony, bitcoin:, decentralized, currency, system, exploited, centralized, capitalism🤷🏾‍♀️]                                                             |\n",
      "|[update:, invested, savings, bitcoin]                                                                                                                     |\n",
      "|[take, love, compatibility, test!, https://t.co/cowehcyu8u, jexpotz, bitcoin]                                                                             |\n",
      "|[bitmain, moves, ahead, employee-options, plan;, jihan, wu, left, sidelines, bitcoin, btc, cryptocurrency…, https://t.co/tw0lvykryd]                      |\n",
      "|[xrpl, labs’, wietse, wind, hints, ‘xrpl-bridged, bank, accounts’, community, ease, payments, bitcoin, btc…, https://t.co/ztwl7bitsu]                     |\n",
      "|[bitcoincard, story!, , @coinbasecard, @tenxwallet, @wirexapp, @bitwala, bitcoin, crypto, visa, https://t.co/zq9upetthe]                                  |\n",
      "|[order, secure, smart, btc/eth/altcoin, hardware, wallet, -, 94.80, eur, https://t.co/wc9nt6qcb7, bitcoin, btc…, https://t.co/asosk0lkel]                 |\n",
      "|[bitcoin, market, grew, ‘independently’, q2, 2019:, binance, report, https://t.co/nljj8gg0rg]                                                             |\n",
      "|[crypto, cryptocurrency, bitcoin, loon's, balloon, breaks, flight, record, 223, continuous, day, air…, https://t.co/y00cnuypzy]                           |\n",
      "|[bitcoin, exchange, binance, aims, disrupt, female, ‘period, poverty’, https://t.co/pfwomyzekz, , xbt, btc, bitcoin]                                      |\n",
      "|[invest, cash, weekly, bitcoin, binary, https://t.co/slb7xfeoqz]                                                                                          |\n",
      "|[3, variants, , btc, future, movements, going, bottom., trading, need, mor…, https://t.co/2voqponipa]                                                     |\n",
      "+----------------------------------------------------------------------------------------------------------------------------------------------------------+\n",
      "only showing top 20 rows\n",
      "\n"
     ]
    }
   ],
   "source": [
    "# Show simplified review\n",
    "newFrame.select(\"Filtered\").show(truncate=False)"
   ]
  },
  {
   "cell_type": "code",
   "execution_count": 12,
   "metadata": {},
   "outputs": [],
   "source": [
    "clean_set = newFrame.toPandas()\n",
    "\n",
    "csv_file = clean_set.to_csv('Output/Clean_set.csv',index=None, header=True)"
   ]
  },
  {
   "cell_type": "code",
   "execution_count": 13,
   "metadata": {},
   "outputs": [],
   "source": [
    "# Stop Spark\n",
    "spark.stop()"
   ]
  }
 ],
 "metadata": {
  "kernelspec": {
   "display_name": "Python 3",
   "language": "python",
   "name": "python3"
  },
  "language_info": {
   "codemirror_mode": {
    "name": "ipython",
    "version": 3
   },
   "file_extension": ".py",
   "mimetype": "text/x-python",
   "name": "python",
   "nbconvert_exporter": "python",
   "pygments_lexer": "ipython3",
   "version": "3.7.1"
  }
 },
 "nbformat": 4,
 "nbformat_minor": 2
}
